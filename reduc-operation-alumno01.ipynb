{
 "cells": [
  {
   "cell_type": "code",
   "execution_count": 9,
   "id": "03c8c605-4f9e-45d2-a6f1-fae8082a6277",
   "metadata": {
    "scrolled": true
   },
   "outputs": [
    {
     "ename": "ValueError",
     "evalue": "invalid literal for int() with base 10: '-f'",
     "output_type": "error",
     "traceback": [
      "\u001b[0;31m---------------------------------------------------------------------------\u001b[0m",
      "\u001b[0;31mValueError\u001b[0m                                Traceback (most recent call last)",
      "Cell \u001b[0;32mIn[9], line 2\u001b[0m\n\u001b[1;32m      1\u001b[0m \u001b[38;5;28;01mimport\u001b[39;00m \u001b[38;5;21;01msys\u001b[39;00m\n\u001b[0;32m----> 2\u001b[0m value \u001b[38;5;241m=\u001b[39m \u001b[38;5;28;43mint\u001b[39;49m\u001b[43m(\u001b[49m\u001b[43msys\u001b[49m\u001b[38;5;241;43m.\u001b[39;49m\u001b[43margv\u001b[49m\u001b[43m[\u001b[49m\u001b[38;5;241;43m1\u001b[39;49m\u001b[43m]\u001b[49m\u001b[43m)\u001b[49m\n\u001b[1;32m      3\u001b[0m \u001b[38;5;28mprint\u001b[39m(\u001b[38;5;124m\"\u001b[39m\u001b[38;5;124mValor usado:\u001b[39m\u001b[38;5;124m\"\u001b[39m, value)\n",
      "\u001b[0;31mValueError\u001b[0m: invalid literal for int() with base 10: '-f'"
     ]
    }
   ],
   "source": [
    "import sys\n",
    "value = int(sys.argv[1])\n",
    "print(\"Valor usado:\", value)"
   ]
  },
  {
   "cell_type": "markdown",
   "id": "6cdffad4",
   "metadata": {},
   "source": [
    "## Reduction operation: the sum of the numbers in the range [0, a)"
   ]
  },
  {
   "cell_type": "code",
   "execution_count": 1,
   "id": "1405b087",
   "metadata": {
    "scrolled": true
   },
   "outputs": [
    {
     "name": "stdout",
     "output_type": "stream",
     "text": [
      "Time taken by reduction operation: 0.2519838809967041 seconds\n",
      "242 ms ± 245 µs per loop (mean ± std. dev. of 2 runs, 1 loop each)\n",
      "\n",
      " \t Computing the sum of numbers in the range [0, value): 499999500000\n",
      "\n"
     ]
    }
   ],
   "source": [
    "import time\n",
    "\n",
    "def reduc_operation(a):\n",
    "    \"\"\"Compute the sum of the numbers in the range [0, a).\"\"\"\n",
    "    x = 0\n",
    "    for i in range(a):\n",
    "        x += i\n",
    "    return x\n",
    "\n",
    "# Secuencial\n",
    "\n",
    "#value = 1000000\n",
    "\n",
    "initialTime = time.time()\n",
    "suma = reduc_operation(value)\n",
    "finalTime = time.time()\n",
    "\n",
    "print(\"Time taken by reduction operation:\", (finalTime - initialTime), \"seconds\")\n",
    "\n",
    "# Utilizando las operaciones mágicas de ipython\n",
    "%timeit -r 2 reduc_operation(value)\n",
    "\n",
    "print(f\"\\n \\t Computing the sum of numbers in the range [0, value): {suma}\\n\")\n"
   ]
  },
  {
   "cell_type": "markdown",
   "id": "e28bf912-7075-45bd-ac3f-414927bee76a",
   "metadata": {},
   "source": [
    "### **Ejercicio 3.2**"
   ]
  },
  {
   "cell_type": "markdown",
   "id": "5f53c25b-3090-4583-8511-80df739fe64a",
   "metadata": {},
   "source": [
    "**Apartado A)** Uso de listas"
   ]
  },
  {
   "cell_type": "code",
   "execution_count": 2,
   "id": "9178a394",
   "metadata": {},
   "outputs": [],
   "source": [
    "#Lista con range de 10^6 elementos\n",
    "lista = list(range(value))"
   ]
  },
  {
   "cell_type": "code",
   "execution_count": 16,
   "id": "c106c244-6ef2-4024-9e72-c6bbb4915e74",
   "metadata": {},
   "outputs": [
    {
     "name": "stdout",
     "output_type": "stream",
     "text": [
      "Time taken by for-loop on a list from a def: 0.22784852981567383 seconds\n"
     ]
    }
   ],
   "source": [
    "#Desde una función:\n",
    "def bucle_for_en_listas(a):\n",
    "    x = 0\n",
    "    for num in a:\n",
    "        x += num\n",
    "    return x\n",
    "\n",
    "initialTime = time.time()\n",
    "bucleLista = bucle_for_en_listas(lista)\n",
    "finalTime = time.time()\n",
    "print(\"Time taken by for-loop on a list from a def:\", (finalTime - initialTime), \"seconds\")"
   ]
  },
  {
   "cell_type": "code",
   "execution_count": 17,
   "id": "a759d300-a642-48ef-a2d9-4771fcf65d4f",
   "metadata": {},
   "outputs": [
    {
     "name": "stdout",
     "output_type": "stream",
     "text": [
      "213 ms ± 85.6 µs per loop (mean ± std. dev. of 4 runs, 1 loop each)\n",
      "CPU times: user 236 ms, sys: 20.7 ms, total: 257 ms\n",
      "Wall time: 258 ms\n"
     ]
    },
    {
     "data": {
      "text/plain": [
       "499999500000"
      ]
     },
     "execution_count": 17,
     "metadata": {},
     "output_type": "execute_result"
    }
   ],
   "source": [
    "#%timeit\n",
    "%timeit -r 4 bucle_for_en_listas(lista)\n",
    "\n",
    "#%time\n",
    "%time bucle_for_en_listas(lista)"
   ]
  },
  {
   "cell_type": "code",
   "execution_count": 18,
   "id": "472abd1b-68a4-4882-a246-3630ccfa0a91",
   "metadata": {},
   "outputs": [
    {
     "name": "stdout",
     "output_type": "stream",
     "text": [
      "Time taken by sum on a list: 0.04379630088806152 seconds\n"
     ]
    }
   ],
   "source": [
    "#Con sum\n",
    "initialTime = time.time()\n",
    "suma_sum = sum(lista)\n",
    "finalTime = time.time()\n",
    "print(\"Time taken by sum on a list:\", (finalTime - initialTime), \"seconds\")"
   ]
  },
  {
   "cell_type": "code",
   "execution_count": 19,
   "id": "86d600c5-6e11-4ded-8aed-14c0f7b6e4b4",
   "metadata": {},
   "outputs": [
    {
     "name": "stdout",
     "output_type": "stream",
     "text": [
      "Time taken by sum on a list from a def: 0.513960599899292 seconds\n"
     ]
    }
   ],
   "source": [
    "#Probando en una función\n",
    "import numpy as np\n",
    "def sum_listas(a):\n",
    "    return np.sum(a)\n",
    "\n",
    "initialTime = time.time()\n",
    "suma_numpy = sum_listas(lista)\n",
    "finalTime = time.time()\n",
    "print(\"Time taken by sum on a list from a def:\", (finalTime - initialTime), \"seconds\")"
   ]
  },
  {
   "cell_type": "code",
   "execution_count": 20,
   "id": "a8169cc8-af96-4ced-8798-513c83cb3e5b",
   "metadata": {},
   "outputs": [
    {
     "name": "stdout",
     "output_type": "stream",
     "text": [
      "505 ms ± 379 µs per loop (mean ± std. dev. of 4 runs, 1 loop each)\n",
      "CPU times: user 500 ms, sys: 5.67 ms, total: 506 ms\n",
      "Wall time: 505 ms\n"
     ]
    },
    {
     "data": {
      "text/plain": [
       "499999500000"
      ]
     },
     "execution_count": 20,
     "metadata": {},
     "output_type": "execute_result"
    }
   ],
   "source": [
    "#%timeit\n",
    "%timeit -r 4 sum_listas(lista)\n",
    "\n",
    "#%time\n",
    "%time sum_listas(lista)"
   ]
  },
  {
   "cell_type": "markdown",
   "id": "280a6f4f-d3f0-4be9-b3ea-b044930fb0d9",
   "metadata": {},
   "source": [
    "**Apartado B)** Uso de arrays"
   ]
  },
  {
   "cell_type": "code",
   "execution_count": 4,
   "id": "897c8659",
   "metadata": {},
   "outputs": [],
   "source": [
    "import numpy as np\n",
    "\n",
    "#Convertir lista en array de numpy\n",
    "array=np.array(lista)"
   ]
  },
  {
   "cell_type": "code",
   "execution_count": 22,
   "id": "be7790b1-32c5-49e4-b954-735ec2d35197",
   "metadata": {},
   "outputs": [
    {
     "name": "stdout",
     "output_type": "stream",
     "text": [
      "Time taken by for-loop on a numpy array from a def: 0.6779847145080566 seconds\n"
     ]
    }
   ],
   "source": [
    "#Desde función\n",
    "initialTime = time.time()\n",
    "bucleLista = bucle_for_en_listas(array)\n",
    "finalTime = time.time()\n",
    "print(\"Time taken by for-loop on a numpy array from a def:\", (finalTime - initialTime), \"seconds\")"
   ]
  },
  {
   "cell_type": "code",
   "execution_count": 23,
   "id": "0f869c39-662b-4ef3-8856-9eadb6e98c0b",
   "metadata": {},
   "outputs": [
    {
     "name": "stdout",
     "output_type": "stream",
     "text": [
      "Time taken by numpy.sum on a numpy array: 0.0023643970489501953 seconds\n"
     ]
    }
   ],
   "source": [
    "#Usando sum\n",
    "initialTime = time.time()\n",
    "suma_numpy = np.sum(array)\n",
    "finalTime = time.time()\n",
    "print(\"Time taken by numpy.sum on a numpy array:\", (finalTime - initialTime), \"seconds\")"
   ]
  },
  {
   "cell_type": "markdown",
   "id": "efc6e54e-901b-4fff-af72-6a083b7d4475",
   "metadata": {},
   "source": [
    "**Apartado C)** Comentario"
   ]
  },
  {
   "cell_type": "markdown",
   "id": "d0953cca",
   "metadata": {},
   "source": [
    "La diferencia entre el tiempo que toma en hacer la suma desde un range en un valor pre-establecido (~ 0.286s) a hacerla desde una lista, que ya tiene hecho este range (~ 0.231) se debe a que los datos de la lista ya están preparados para que Python pueda trabajar sobre ellos, en cambio, dentro de la función del bucle del código original se debe hacer previamente un range del valor pre-establecido, lo que aumenta el tiempo de trabajo. \n",
    "\n",
    "En cuanto al uso de sum, es muy notable su optimización del trabajo, bajando el tiempo a casi 0.20s. Es interesante ver cómo se comporta desde una función (tarda más) y desde el código raso. \n",
    "\n",
    "Finalmente, respecto al uso de los arrays de NumPy, su tiempo de trabajo aumenta cuando se realiza la suma mediante un bucle (debido a que el acceso a los elementos de un array para un bucle implica una conversión), sin emabrgo el tiempo que toma cuando se ejecutan con sum es la mitad que con una lista. \n",
    "\n",
    "\n",
    "\n",
    "\n",
    "\n"
   ]
  },
  {
   "cell_type": "markdown",
   "id": "a8bade91-aded-441e-bb68-b9aacac1a84c",
   "metadata": {},
   "source": [
    "### **Ejercicio 3.3**"
   ]
  },
  {
   "cell_type": "markdown",
   "id": "9a60ed55-1b0d-4b63-9f82-5621b17c0c3a",
   "metadata": {},
   "source": [
    "**Apartado A)** Usando el paquete Numba"
   ]
  },
  {
   "cell_type": "code",
   "execution_count": 6,
   "id": "bbaa46b1-3bac-446e-b43e-6842c58ea46a",
   "metadata": {},
   "outputs": [
    {
     "name": "stdout",
     "output_type": "stream",
     "text": [
      "Time taken by numpy.sum on a numpy array: 1.277174711227417 seconds\n",
      "Time taken by numpy.sum on a numpy array with @njit: 0.44261884689331055 seconds\n"
     ]
    }
   ],
   "source": [
    "from numba import njit\n",
    "def sum_bucle_numba(a):\n",
    "    total = 0.0\n",
    "    for num in a:\n",
    "        total += num\n",
    "    return total\n",
    "    \n",
    "initialTime = time.time()\n",
    "suma_numpy = sum_bucle_numba(array)\n",
    "finalTime = time.time()\n",
    "print(\"Time taken by numpy.sum on a numpy array without @njit:\", (finalTime - initialTime), \"seconds\")\n",
    "\n",
    "@njit\n",
    "def sum_bucle_numba(a):\n",
    "    total = 0.0\n",
    "    for num in a:\n",
    "        total += num\n",
    "    return total\n",
    "    \n",
    "initialTime = time.time()\n",
    "suma_numpy = sum_bucle_numba(array)\n",
    "finalTime = time.time()\n",
    "print(\"Time taken by numpy.sum on a numpy array with @njit:\", (finalTime - initialTime), \"seconds\")"
   ]
  },
  {
   "cell_type": "markdown",
   "id": "835d47f5-80f0-4f0b-a5d6-45d13370ba0e",
   "metadata": {},
   "source": [
    "**Apartado B)** Resultados con Numba"
   ]
  },
  {
   "cell_type": "markdown",
   "id": "f34f3a8b-6ff9-4c94-96ab-0113c99a0d47",
   "metadata": {},
   "source": [
    "Aplicando @njit sobre la función, se consigue optimizar el tiempo de trabajo en ~ 0.80s. No obstante, np.sum sigue siendo más rápido."
   ]
  }
 ],
 "metadata": {
  "kernelspec": {
   "display_name": "Python 3 (ipykernel)",
   "language": "python",
   "name": "python3"
  },
  "language_info": {
   "codemirror_mode": {
    "name": "ipython",
    "version": 3
   },
   "file_extension": ".py",
   "mimetype": "text/x-python",
   "name": "python",
   "nbconvert_exporter": "python",
   "pygments_lexer": "ipython3",
   "version": "3.10.9"
  }
 },
 "nbformat": 4,
 "nbformat_minor": 5
}
