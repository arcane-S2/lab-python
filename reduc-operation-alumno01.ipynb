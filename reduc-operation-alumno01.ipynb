{
 "cells": [
  {
   "cell_type": "markdown",
   "id": "6cdffad4",
   "metadata": {},
   "source": [
    "## Reduction operation: the sum of the numbers in the range [0, a)"
   ]
  },
  {
   "cell_type": "code",
   "execution_count": 26,
   "id": "1405b087",
   "metadata": {},
   "outputs": [
    {
     "name": "stdout",
     "output_type": "stream",
     "text": [
      "Time taken by reduction operation: 0.2886998653411865 seconds\n",
      "232 ms ± 820 µs per loop (mean ± std. dev. of 2 runs, 1 loop each)\n",
      "\n",
      " \t Computing the sum of numbers in the range [0, value): 499999500000\n",
      "\n"
     ]
    }
   ],
   "source": [
    "import time\n",
    "\n",
    "def reduc_operation(a):\n",
    "    \"\"\"Compute the sum of the numbers in the range [0, a).\"\"\"\n",
    "    x = 0\n",
    "    for i in range(a):\n",
    "        x += i\n",
    "    return x\n",
    "\n",
    "# Secuencial\n",
    "\n",
    "value = 1000000\n",
    "\n",
    "initialTime = time.time()\n",
    "suma = reduc_operation(value)\n",
    "finalTime = time.time()\n",
    "\n",
    "print(\"Time taken by reduction operation:\", (finalTime - initialTime), \"seconds\")\n",
    "\n",
    "# Utilizando las operaciones mágicas de ipython\n",
    "%timeit -r 2 reduc_operation(value)\n",
    "\n",
    "print(f\"\\n \\t Computing the sum of numbers in the range [0, value): {suma}\\n\")\n"
   ]
  },
  {
   "cell_type": "markdown",
   "id": "e28bf912-7075-45bd-ac3f-414927bee76a",
   "metadata": {},
   "source": [
    "### **Ejercicio 3.2**"
   ]
  },
  {
   "cell_type": "markdown",
   "id": "5f53c25b-3090-4583-8511-80df739fe64a",
   "metadata": {},
   "source": [
    "**Apartado A)** Uso de listas"
   ]
  },
  {
   "cell_type": "code",
   "execution_count": 3,
   "id": "9178a394",
   "metadata": {},
   "outputs": [],
   "source": [
    "#Lista con range de 10^6 elementos\n",
    "lista = list(range(1000000))"
   ]
  },
  {
   "cell_type": "code",
   "execution_count": 23,
   "id": "c106c244-6ef2-4024-9e72-c6bbb4915e74",
   "metadata": {},
   "outputs": [
    {
     "name": "stdout",
     "output_type": "stream",
     "text": [
      "Time taken by for-loop on a list from a def: 0.23210763931274414 seconds\n"
     ]
    }
   ],
   "source": [
    "#Desde una función:\n",
    "def bucle_for_en_listas(a):\n",
    "    x = 0\n",
    "    for num in a:\n",
    "        x += num\n",
    "    return x\n",
    "\n",
    "initialTime = time.time()\n",
    "bucleLista = bucle_for_en_listas(lista)\n",
    "finalTime = time.time()\n",
    "print(\"Time taken by for-loop on a list from a def:\", (finalTime - initialTime), \"seconds\")"
   ]
  },
  {
   "cell_type": "code",
   "execution_count": 6,
   "id": "a759d300-a642-48ef-a2d9-4771fcf65d4f",
   "metadata": {},
   "outputs": [
    {
     "name": "stdout",
     "output_type": "stream",
     "text": [
      "206 ms ± 1.39 ms per loop (mean ± std. dev. of 4 runs, 1 loop each)\n",
      "CPU times: user 220 ms, sys: 20.4 ms, total: 241 ms\n",
      "Wall time: 244 ms\n"
     ]
    },
    {
     "data": {
      "text/plain": [
       "499999500000"
      ]
     },
     "execution_count": 6,
     "metadata": {},
     "output_type": "execute_result"
    }
   ],
   "source": [
    "#%timeit\n",
    "%timeit -r 4 bucle_for_en_listas(lista)\n",
    "\n",
    "#%time\n",
    "%time bucle_for_en_listas(lista)"
   ]
  },
  {
   "cell_type": "code",
   "execution_count": 7,
   "id": "472abd1b-68a4-4882-a246-3630ccfa0a91",
   "metadata": {},
   "outputs": [
    {
     "name": "stdout",
     "output_type": "stream",
     "text": [
      "Time taken by sum on a list: 0.0440826416015625 seconds\n"
     ]
    }
   ],
   "source": [
    "#Con sum\n",
    "initialTime = time.time()\n",
    "suma_sum = sum(lista)\n",
    "finalTime = time.time()\n",
    "print(\"Time taken by sum on a list:\", (finalTime - initialTime), \"seconds\")"
   ]
  },
  {
   "cell_type": "code",
   "execution_count": 24,
   "id": "86d600c5-6e11-4ded-8aed-14c0f7b6e4b4",
   "metadata": {},
   "outputs": [
    {
     "name": "stdout",
     "output_type": "stream",
     "text": [
      "Time taken by sum on a list from a def: 0.5155272483825684 seconds\n"
     ]
    }
   ],
   "source": [
    "#Probando en una función\n",
    "def sum_listas(a):\n",
    "    return np.sum(a)\n",
    "\n",
    "initialTime = time.time()\n",
    "suma_numpy = sum_listas(lista)\n",
    "finalTime = time.time()\n",
    "print(\"Time taken by sum on a list from a def:\", (finalTime - initialTime), \"seconds\")"
   ]
  },
  {
   "cell_type": "code",
   "execution_count": 9,
   "id": "a8169cc8-af96-4ced-8798-513c83cb3e5b",
   "metadata": {},
   "outputs": [
    {
     "name": "stdout",
     "output_type": "stream",
     "text": [
      "494 ms ± 16.6 ms per loop (mean ± std. dev. of 4 runs, 1 loop each)\n",
      "CPU times: user 486 ms, sys: 2.85 ms, total: 489 ms\n",
      "Wall time: 491 ms\n"
     ]
    },
    {
     "data": {
      "text/plain": [
       "499999500000"
      ]
     },
     "execution_count": 9,
     "metadata": {},
     "output_type": "execute_result"
    }
   ],
   "source": [
    "#%timeit\n",
    "%timeit -r 4 sum_listas(lista)\n",
    "\n",
    "#%time\n",
    "%time sum_listas(lista)"
   ]
  },
  {
   "cell_type": "markdown",
   "id": "280a6f4f-d3f0-4be9-b3ea-b044930fb0d9",
   "metadata": {},
   "source": [
    "**Apartado B)** Uso de arrays"
   ]
  },
  {
   "cell_type": "code",
   "execution_count": 30,
   "id": "897c8659",
   "metadata": {},
   "outputs": [],
   "source": [
    "import numpy as np\n",
    "\n",
    "#Convertir lista en array de numpy\n",
    "array=np.array(lista)"
   ]
  },
  {
   "cell_type": "code",
   "execution_count": 31,
   "id": "be7790b1-32c5-49e4-b954-735ec2d35197",
   "metadata": {},
   "outputs": [
    {
     "name": "stdout",
     "output_type": "stream",
     "text": [
      "Time taken by for-loop on a numpy array from a def: 0.6624541282653809 seconds\n"
     ]
    }
   ],
   "source": [
    "#Desde función\n",
    "initialTime = time.time()\n",
    "bucleLista = bucle_for_en_listas(array)\n",
    "finalTime = time.time()\n",
    "print(\"Time taken by for-loop on a numpy array from a def:\", (finalTime - initialTime), \"seconds\")"
   ]
  },
  {
   "cell_type": "code",
   "execution_count": 32,
   "id": "0f869c39-662b-4ef3-8856-9eadb6e98c0b",
   "metadata": {},
   "outputs": [
    {
     "name": "stdout",
     "output_type": "stream",
     "text": [
      "Time taken by numpy.sum on a numpy array: 0.002670764923095703 seconds\n"
     ]
    }
   ],
   "source": [
    "#Usando sum\n",
    "initialTime = time.time()\n",
    "suma_numpy = np.sum(array)\n",
    "finalTime = time.time()\n",
    "print(\"Time taken by numpy.sum on a numpy array:\", (finalTime - initialTime), \"seconds\")"
   ]
  },
  {
   "cell_type": "markdown",
   "id": "efc6e54e-901b-4fff-af72-6a083b7d4475",
   "metadata": {},
   "source": [
    "**Apartado C)** Comentario"
   ]
  },
  {
   "cell_type": "markdown",
   "id": "d0953cca",
   "metadata": {},
   "source": [
    "La diferencia entre el tiempo que toma en hacer la suma desde un range en un valor pre-establecido (~ 0.286s) a hacerla desde una lista, que ya tiene hecho este range (~ 0.231) se debe a que los datos de la lista ya están preparados para que Python pueda trabajar sobre ellos, en cambio, dentro de la función del bucle del código original se debe hacer previamente un range del valor pre-establecido, lo que aumenta el tiempo de trabajo. \n",
    "\n",
    "En cuanto al uso de sum, es muy notable su optimización del trabajo, bajando el tiempo a casi 0.20s. Es interesante ver cómo se comporta desde una función (tarda más) y desde el código raso. \n",
    "\n",
    "Finalmente, respecto al uso de los arrays de NumPy, su tiempo de trabajo aumenta cuando se realiza la suma mediante un bucle (debido a que el acceso a los elementos de un array para un bucle implica una conversión), sin emabrgo el tiempo que toma cuando se ejecutan con sum es la mitad que con una lista. \n",
    "\n",
    "\n",
    "\n",
    "\n",
    "\n"
   ]
  }
 ],
 "metadata": {
  "kernelspec": {
   "display_name": "Python 3 (ipykernel)",
   "language": "python",
   "name": "python3"
  },
  "language_info": {
   "codemirror_mode": {
    "name": "ipython",
    "version": 3
   },
   "file_extension": ".py",
   "mimetype": "text/x-python",
   "name": "python",
   "nbconvert_exporter": "python",
   "pygments_lexer": "ipython3",
   "version": "3.10.9"
  }
 },
 "nbformat": 4,
 "nbformat_minor": 5
}
