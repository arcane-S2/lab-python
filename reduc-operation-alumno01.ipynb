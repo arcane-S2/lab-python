{
 "cells": [
  {
   "cell_type": "markdown",
   "id": "f942d288-be01-42cd-9b84-83529c6769be",
   "metadata": {},
   "source": [
    "### Reduction operation: the sum of the numbers in the range [0, a)"
   ]
  },
  {
   "cell_type": "code",
   "execution_count": 16,
   "id": "496946fa-2a28-4c1d-8a6a-2ee0b8fd8ced",
   "metadata": {},
   "outputs": [
    {
     "name": "stdout",
     "output_type": "stream",
     "text": [
      "Time taken by reduction operation: 0.2692744731903076 seconds\n",
      "232 ms ± 2.18 ms per loop (mean ± std. dev. of 2 runs, 1 loop each)\n",
      "\n",
      " \t Computing the sum of numbers in the range [0, value): 499999500000\n",
      "\n"
     ]
    }
   ],
   "source": [
    "import time\n",
    "\n",
    "def reduc_operation(a):\n",
    "    \"\"\"Compute the sum of the numbers in the range [0, a).\"\"\"\n",
    "    x = 0\n",
    "    for i in range(a):\n",
    "        x += i\n",
    "    return x\n",
    "\n",
    "# Secuencial\n",
    "\n",
    "value = 1000000\n",
    "\n",
    "initialTime = time.time()\n",
    "suma = reduc_operation(value)\n",
    "finalTime = time.time()\n",
    "\n",
    "print(\"Time taken by reduction operation:\", (finalTime - initialTime), \"seconds\")\n",
    "\n",
    "# Utilizando las operaciones mágicas de ipython\n",
    "%timeit -r 2 reduc_operation(value)\n",
    "\n",
    "print(f\"\\n \\t Computing the sum of numbers in the range [0, value): {suma}\\n\")"
   ]
  },
  {
   "cell_type": "code",
   "execution_count": 9,
   "id": "3c6faf2a-6986-4023-be66-672c3be5d193",
   "metadata": {},
   "outputs": [
    {
     "name": "stdout",
     "output_type": "stream",
     "text": [
      "Time taken by for-loop on a list: 0.46820735931396484 seconds\n",
      "Time taken by sum on a list: 0.0319669246673584 seconds\n"
     ]
    }
   ],
   "source": [
    "#Apartado A)\n",
    "#Lista con range de 10^6 elementos\n",
    "lista = list(range(1000000))\n",
    "\n",
    "#Usando bucle for \n",
    "initialTime = time.time()\n",
    "x = 0\n",
    "for i in lista:\n",
    "    x += i\n",
    "finalTime = time.time()\n",
    "print(\"Time taken by for-loop on a list:\", (finalTime - initialTime), \"seconds\")\n",
    "\n",
    "#Usando sum\n",
    "initialTime = time.time()\n",
    "suma_sum = sum(lista)\n",
    "finalTime = time.time()\n",
    "print(\"Time taken by sum on a list:\", (finalTime - initialTime), \"seconds\")\n"
   ]
  },
  {
   "cell_type": "code",
   "execution_count": 15,
   "id": "acc8eb2d-03a2-4823-a7a6-74eab3ed1ebc",
   "metadata": {},
   "outputs": [
    {
     "name": "stdout",
     "output_type": "stream",
     "text": [
      "Time taken by for-loop on a numpy array: 0.9621889591217041 seconds\n",
      "Time taken by numpy.sum on a numpy array: 0.0019490718841552734 seconds\n"
     ]
    }
   ],
   "source": [
    "#Apartado B)\n",
    "import numpy as np\n",
    "\n",
    "#Convertir lista en array de numpy\n",
    "array=np.array(lista)\n",
    "\n",
    "#Usando bucle for\n",
    "initialTime = time.time()\n",
    "x_for_array = 0\n",
    "for num in array:\n",
    "    x_for_array += num\n",
    "finalTime = time.time()\n",
    "print(\"Time taken by for-loop on a numpy array:\", (finalTime - initialTime), \"seconds\")\n",
    "\n",
    "#Usando sum\n",
    "initialTime = time.time()\n",
    "suma_numpy = np.sum(array)\n",
    "finalTime = time.time()\n",
    "print(\"Time taken by numpy.sum on a numpy array:\", (finalTime - initialTime), \"seconds\")"
   ]
  },
  {
   "cell_type": "markdown",
   "id": "1a88280a-1d5c-4b64-a2c0-1830a11e0226",
   "metadata": {},
   "source": [
    "Como vemos, el uso de sum para hacer operaciones dentro de listas es mucho más eficiente (en términos de tiempo) que la implementación de los bucles for. \n",
    "Numpy aprovecha esta función al máximo porque usa operaciones vectorizadas y paralelismo, sobretodo para cálculos a gran escala, como un range de 10^6, por ello sus tiempos con la función sum van a ser más eficientes.\n",
    "\n",
    "El código original tarda menos tiempo que al emplear listas debido a que al crear una lista (objeto) estamos almacenando esa información en la memoria. Cada vez que se trabaje sobre la lista, python debe primero acceder a la dirección de la memoria donde se encuentre, generando más recursos\n"
   ]
  }
 ],
 "metadata": {
  "kernelspec": {
   "display_name": "Python 3 (ipykernel)",
   "language": "python",
   "name": "python3"
  },
  "language_info": {
   "codemirror_mode": {
    "name": "ipython",
    "version": 3
   },
   "file_extension": ".py",
   "mimetype": "text/x-python",
   "name": "python",
   "nbconvert_exporter": "python",
   "pygments_lexer": "ipython3",
   "version": "3.10.9"
  }
 },
 "nbformat": 4,
 "nbformat_minor": 5
}
